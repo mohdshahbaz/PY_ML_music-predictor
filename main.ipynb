{
 "cells": [
  {
   "cell_type": "code",
   "execution_count": 162,
   "metadata": {},
   "outputs": [
    {
     "data": {
      "text/plain": [
       "array(['Acoustic'], dtype=object)"
      ]
     },
     "execution_count": 162,
     "metadata": {},
     "output_type": "execute_result"
    }
   ],
   "source": [
    "import pandas as pd\n",
    "from sklearn.tree import DecisionTreeClassifier\n",
    "from sklearn.model_selection import train_test_split\n",
    "from sklearn.metrics import accuracy_score\n",
    "import joblib\n",
    "from sklearn import tree\n",
    "\n",
    "# loading music data from csv format\n",
    "music_data = pd.read_csv('music.csv')\n",
    "\n",
    "# input data set\n",
    "X = music_data.drop(columns=['genre'])\n",
    "\n",
    "# output data set\n",
    "y = music_data['genre']\n",
    "\n",
    "# splitting output & input data into two sets of training & testing.\n",
    "X_train, X_test, y_train, y_test = train_test_split(X, y, test_size=0.2)\n",
    "\n",
    "# initialize decision tree classifier\n",
    "model = DecisionTreeClassifier()\n",
    "\n",
    "# gives training data to the decision tree classifier to create trained model\n",
    "model.fit(X_train, y_train)\n",
    "\n",
    "# load trained model from memory\n",
    "# model = joblib.load('music-recommender.joblib')\n",
    "\n",
    "# creates .dot file for visualizing trained model's binary tree\n",
    "# tree.export_graphviz(model, out_file='music-recommender.dot',\n",
    "#                     feature_names=['age', 'gender'],\n",
    "#                     class_names=sorted(y.unique()),\n",
    "#                     label='all',\n",
    "#                     rounded=True,\n",
    "#                     filled=True\n",
    "#                     )\n",
    "\n",
    "# predicts genre based on gender=1(male) & age 21\n",
    "predictions = model.predict([[28,0]])\n",
    "\n",
    "# calculate trained model accuracy score\n",
    "# score = accuracy_score(y_test, predictions)\n",
    "# score\n",
    "\n",
    "\n",
    "# outputs prediction\n",
    "predictions\n"
   ]
  }
 ],
 "metadata": {
  "kernelspec": {
   "display_name": "Python 3",
   "language": "python",
   "name": "python3"
  },
  "language_info": {
   "codemirror_mode": {
    "name": "ipython",
    "version": 3
   },
   "file_extension": ".py",
   "mimetype": "text/x-python",
   "name": "python",
   "nbconvert_exporter": "python",
   "pygments_lexer": "ipython3",
   "version": "3.8.5"
  }
 },
 "nbformat": 4,
 "nbformat_minor": 4
}
